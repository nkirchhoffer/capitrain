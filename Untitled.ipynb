{
 "cells": [
  {
   "cell_type": "code",
   "execution_count": 1,
   "id": "2a4d8a5f",
   "metadata": {},
   "outputs": [],
   "source": [
    "import yaml, json"
   ]
  },
  {
   "cell_type": "code",
   "execution_count": 10,
   "id": "481d9f99",
   "metadata": {},
   "outputs": [],
   "source": [
    "with open('deployment.yaml') as file:\n",
    "    deployment = yaml.safe_load(file)"
   ]
  },
  {
   "cell_type": "code",
   "execution_count": 19,
   "id": "d5218f12",
   "metadata": {},
   "outputs": [
    {
     "data": {
      "text/plain": [
       "dict_values([[{'name': 'nginx', 'image': 'nginx:1.14.2', 'ports': [{'containerPort': 80}], 'volumeMount': [{'name': 'data', 'mountPath': '/var/www/html'}], 'volumes': None}, {'name': 'data', 'persistentVolumeClaim': {'claimName': 'nginx-data'}}]])"
      ]
     },
     "execution_count": 19,
     "metadata": {},
     "output_type": "execute_result"
    }
   ],
   "source": [
    "deployment.get('spec').values()"
   ]
  },
  {
   "cell_type": "code",
   "execution_count": 8,
   "id": "81b7c133",
   "metadata": {},
   "outputs": [
    {
     "ename": "SyntaxError",
     "evalue": "expected ':' (333426596.py, line 1)",
     "output_type": "error",
     "traceback": [
      "\u001b[0;36m  Cell \u001b[0;32mIn [8], line 1\u001b[0;36m\u001b[0m\n\u001b[0;31m    def browse()\u001b[0m\n\u001b[0m                ^\u001b[0m\n\u001b[0;31mSyntaxError\u001b[0m\u001b[0;31m:\u001b[0m expected ':'\n"
     ]
    }
   ],
   "source": [
    "MAX_DEPTH = 3\n",
    "def browse(node, depth = 0):\n",
    "    if 'apiVersion' == ''"
   ]
  },
  {
   "cell_type": "code",
   "execution_count": 21,
   "id": "1ff92b56",
   "metadata": {},
   "outputs": [
    {
     "name": "stdout",
     "output_type": "stream",
     "text": [
      "[{'name': 'nginx', 'image': 'nginx:1.14.2', 'ports': [{'containerPort': 80}], 'volumeMount': [{'name': 'data', 'mountPath': '/var/www/html'}], 'volumes': None}, {'name': 'data', 'persistentVolumeClaim': {'claimName': 'nginx-data'}}]\n"
     ]
    }
   ],
   "source": [
    "for item in deployment.get('spec').values():\n",
    "    print(item)"
   ]
  },
  {
   "cell_type": "code",
   "execution_count": null,
   "id": "d6ef0c98",
   "metadata": {},
   "outputs": [],
   "source": []
  }
 ],
 "metadata": {
  "kernelspec": {
   "display_name": "Python 3 (ipykernel)",
   "language": "python",
   "name": "python3"
  },
  "language_info": {
   "codemirror_mode": {
    "name": "ipython",
    "version": 3
   },
   "file_extension": ".py",
   "mimetype": "text/x-python",
   "name": "python",
   "nbconvert_exporter": "python",
   "pygments_lexer": "ipython3",
   "version": "3.10.8"
  }
 },
 "nbformat": 4,
 "nbformat_minor": 5
}
